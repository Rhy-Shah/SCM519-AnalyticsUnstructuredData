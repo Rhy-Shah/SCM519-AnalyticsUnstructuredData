{
 "cells": [
  {
   "cell_type": "code",
   "execution_count": 7,
   "metadata": {},
   "outputs": [],
   "source": [
    "import numpy as np"
   ]
  },
  {
   "cell_type": "markdown",
   "metadata": {},
   "source": [
    "a. Use simulation to estimate the company's expected annual profit. Expected profit is"
   ]
  },
  {
   "cell_type": "code",
   "execution_count": null,
   "metadata": {},
   "outputs": [],
   "source": [
    "n = 1000000\n",
    "sales = np.random.choice([30000, 70000], size=n, p=[0.5, 0.5])\n",
    "prices = np.where(sales == 30000, 20, 15)\n",
    "variable_costs = np.random.choice([10, 11, 12], size=n, p=[0.2, 0.6, 0.2])\n",
    "fixed_costs = 20000"
   ]
  },
  {
   "cell_type": "code",
   "execution_count": 22,
   "metadata": {},
   "outputs": [
    {
     "name": "stdout",
     "output_type": "stream",
     "text": [
      "Expected Profit:  255000.0\n"
     ]
    }
   ],
   "source": [
    "profits = (prices - variable_costs) * sales - fixed_costs\n",
    "print(\"Expected Profit: \", round(np.mean(profits),-3))"
   ]
  },
  {
   "cell_type": "markdown",
   "metadata": {},
   "source": [
    " b. Find the lower value for the 95% interval for the company's annual profit, that is, an interval such that 95% of the actual profits are inside it (i.e., profit at the 2.5th percentile). The profit at the 2.5th percentile is "
   ]
  },
  {
   "cell_type": "code",
   "execution_count": 21,
   "metadata": {},
   "outputs": [
    {
     "name": "stdout",
     "output_type": "stream",
     "text": [
      "Lower value for the 95% interval:  190000.0\n"
     ]
    }
   ],
   "source": [
    "lower_95_interval = np.percentile(profits, 2.5)\n",
    "print(\"Lower value for the 95% interval: \", lower_95_interval)"
   ]
  },
  {
   "cell_type": "code",
   "execution_count": null,
   "metadata": {},
   "outputs": [],
   "source": []
  }
 ],
 "metadata": {
  "kernelspec": {
   "display_name": "Python 3",
   "language": "python",
   "name": "python3"
  },
  "language_info": {
   "codemirror_mode": {
    "name": "ipython",
    "version": 3
   },
   "file_extension": ".py",
   "mimetype": "text/x-python",
   "name": "python",
   "nbconvert_exporter": "python",
   "pygments_lexer": "ipython3",
   "version": "3.12.5"
  }
 },
 "nbformat": 4,
 "nbformat_minor": 2
}
