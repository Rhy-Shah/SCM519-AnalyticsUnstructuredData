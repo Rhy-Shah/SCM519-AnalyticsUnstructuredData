{
 "cells": [
  {
   "cell_type": "code",
   "execution_count": 1,
   "metadata": {},
   "outputs": [],
   "source": [
    "import numpy as np"
   ]
  },
  {
   "cell_type": "code",
   "execution_count": 2,
   "metadata": {},
   "outputs": [],
   "source": [
    "def simulate_investment(strategy, initial_wealth=100, weeks=100, trials=1000):\n",
    "    final_wealths = []\n",
    "    \n",
    "    for _ in range(trials):\n",
    "        wealth = initial_wealth\n",
    "        for _ in range(weeks):\n",
    "            bet = strategy * wealth\n",
    "            if np.random.rand() < 0.4:\n",
    "                wealth += 2 * bet\n",
    "            else:\n",
    "                wealth -= bet\n",
    "        final_wealths.append(wealth)\n",
    "    \n",
    "    return final_wealths"
   ]
  },
  {
   "cell_type": "code",
   "execution_count": 3,
   "metadata": {},
   "outputs": [],
   "source": [
    "def compute_average_growth_rate(final_wealths, initial_wealth=100, weeks=100):\n",
    "    avg_final_wealth = np.mean(final_wealths)\n",
    "    return (avg_final_wealth / initial_wealth) ** (1 / weeks) - 1"
   ]
  },
  {
   "cell_type": "code",
   "execution_count": 4,
   "metadata": {},
   "outputs": [],
   "source": [
    "strategies = {\"10%\": 0.1, \"30%\": 0.3, \"50%\": 0.5}\n",
    "results = {}\n",
    "\n",
    "for name, fraction in strategies.items():\n",
    "    final_wealths = simulate_investment(fraction)\n",
    "    avg_growth_rate = compute_average_growth_rate(final_wealths)\n",
    "    results[name] = avg_growth_rate"
   ]
  },
  {
   "cell_type": "code",
   "execution_count": 8,
   "metadata": {},
   "outputs": [
    {
     "name": "stdout",
     "output_type": "stream",
     "text": [
      "Strategy 10%: Average Growth Rate per Period = 1.98%\n",
      "Strategy 30%: Average Growth Rate per Period = 4.34%\n",
      "Strategy 50%: Average Growth Rate per Period = 0.15%\n"
     ]
    }
   ],
   "source": [
    "for strategy, growth_rate in results.items():\n",
    "    print(f\"Strategy {strategy}: Average Growth Rate per Period = {growth_rate*100:.2f}%\")"
   ]
  }
 ],
 "metadata": {
  "kernelspec": {
   "display_name": "Python 3",
   "language": "python",
   "name": "python3"
  },
  "language_info": {
   "codemirror_mode": {
    "name": "ipython",
    "version": 3
   },
   "file_extension": ".py",
   "mimetype": "text/x-python",
   "name": "python",
   "nbconvert_exporter": "python",
   "pygments_lexer": "ipython3",
   "version": "3.12.5"
  }
 },
 "nbformat": 4,
 "nbformat_minor": 2
}
