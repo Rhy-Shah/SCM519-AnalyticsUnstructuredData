{
 "cells": [
  {
   "cell_type": "code",
   "execution_count": 8,
   "metadata": {},
   "outputs": [],
   "source": [
    "import numpy as np"
   ]
  },
  {
   "cell_type": "code",
   "execution_count": 9,
   "metadata": {},
   "outputs": [],
   "source": [
    "initial_investment = 5000\n",
    "years = 30\n",
    "replications = 100000\n",
    "prob_double = 0.4\n",
    "prob_half = 0.6"
   ]
  },
  {
   "cell_type": "code",
   "execution_count": 10,
   "metadata": {},
   "outputs": [],
   "source": [
    "final_amounts = []\n",
    "\n",
    "for i in range(replications):\n",
    "    money = initial_investment\n",
    "    for j in range(years):\n",
    "        under_mattress = money / 2\n",
    "        invested = money / 2\n",
    "        if np.random.rand() < prob_double:\n",
    "            invested *= 2\n",
    "        else:\n",
    "            invested /= 2\n",
    "        money = under_mattress + invested\n",
    "    final_amounts.append(money)"
   ]
  },
  {
   "cell_type": "code",
   "execution_count": 13,
   "metadata": {},
   "outputs": [
    {
     "name": "stdout",
     "output_type": "stream",
     "text": [
      "Return at the 5th percentile: -0.098\n",
      "Return at the 95th percentile: 0.085\n"
     ]
    }
   ],
   "source": [
    "annual_returns = [(f / initial_investment) ** (1 / years) - 1 for f in final_amounts]\n",
    "\n",
    "lower_bound = np.percentile(annual_returns, 5)\n",
    "upper_bound = np.percentile(annual_returns, 95)\n",
    "\n",
    "print(f\"Return at the 5th percentile: {lower_bound:.3f}\")\n",
    "print(f\"Return at the 95th percentile: {upper_bound:.3f}\")"
   ]
  },
  {
   "cell_type": "code",
   "execution_count": null,
   "metadata": {},
   "outputs": [],
   "source": []
  }
 ],
 "metadata": {
  "kernelspec": {
   "display_name": "Python 3",
   "language": "python",
   "name": "python3"
  },
  "language_info": {
   "codemirror_mode": {
    "name": "ipython",
    "version": 3
   },
   "file_extension": ".py",
   "mimetype": "text/x-python",
   "name": "python",
   "nbconvert_exporter": "python",
   "pygments_lexer": "ipython3",
   "version": "3.12.5"
  }
 },
 "nbformat": 4,
 "nbformat_minor": 2
}
