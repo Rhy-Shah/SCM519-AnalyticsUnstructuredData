{
  "cells": [
    {
      "cell_type": "markdown",
      "metadata": {
        "id": "I51vTXR-bBuX"
      },
      "source": [
        "Recall that in class we have looked the gym model:\n",
        "- The students arrive at the gym sequentially. We assume an exponential interarrival time with a mean of 2 minutes (e.g., an average of 30 students arriving per hour).\n",
        "- Students work out for a random amount of time (uniform between 1 and 20).  20% of the students leave after working out. 80% go to the locker room (e.g., to shower and change) for a random amount of time (normally distributed with a mean of 20 and standard deviation of 5). Then these students leave the gym.\n",
        "\n",
        "Here is the implementaion using python `class`."
      ]
    },
    {
      "cell_type": "markdown",
      "metadata": {
        "id": "s-LeOBVIb42_"
      },
      "source": [
        "## 1. Sample codes from class"
      ]
    },
    {
      "cell_type": "code",
      "execution_count": 1,
      "metadata": {
        "colab": {
          "base_uri": "https://localhost:8080/"
        },
        "id": "qIwPYy0xgoix",
        "outputId": "508e03d5-5565-4770-dd52-7c309f2d6656"
      },
      "outputs": [
        {
          "name": "stdout",
          "output_type": "stream",
          "text": [
            "Collecting simpy\n",
            "  Downloading simpy-4.1.1-py3-none-any.whl.metadata (6.1 kB)\n",
            "Downloading simpy-4.1.1-py3-none-any.whl (27 kB)\n",
            "Installing collected packages: simpy\n",
            "Successfully installed simpy-4.1.1\n"
          ]
        }
      ],
      "source": [
        "!pip install simpy\n",
        "import simpy\n",
        "import random\n",
        "import numpy as np\n",
        "from functools import *\n",
        "import pandas as pd\n",
        "import matplotlib.pyplot as plt\n",
        "import seaborn as sns"
      ]
    },
    {
      "cell_type": "code",
      "execution_count": 2,
      "metadata": {
        "colab": {
          "base_uri": "https://localhost:8080/",
          "height": 660
        },
        "id": "0WLPsWr4YFUi",
        "outputId": "cb04d165-78dc-4a45-f679-8b997880c3a9"
      },
      "outputs": [
        {
          "name": "stdout",
          "output_type": "stream",
          "text": [
            "Student 1 arrives at time 5.57\n",
            "Student 2 arrives at time 7.93\n",
            "Student 3 arrives at time 12.52\n",
            "Student 1 works out for 7.63 minutes & is done at time 13.21\n",
            "Student 4 arrives at time 15.56\n",
            "Student 5 arrives at time 15.56\n",
            "Student 4 works out for 1.54 minutes & is done at time 17.11\n",
            "Student 3 works out for 4.64 minutes & is done at time 17.16\n",
            "Student 2 works out for 18.28 minutes & is done at time 26.22\n",
            "Student 5 works out for 18.98 minutes & is done at time 34.55\n",
            "Student 4 uses locker room for 25.38 minutes & leaves gym at time 42.49\n",
            "Student 3 uses locker room for 26.13 minutes & leaves gym at time 43.29\n",
            "Student 5 uses locker room for 20.87 minutes & leaves gym at time 55.42\n"
          ]
        },
        {
          "data": {
            "text/html": [
              "<div>\n",
              "<style scoped>\n",
              "    .dataframe tbody tr th:only-of-type {\n",
              "        vertical-align: middle;\n",
              "    }\n",
              "\n",
              "    .dataframe tbody tr th {\n",
              "        vertical-align: top;\n",
              "    }\n",
              "\n",
              "    .dataframe thead th {\n",
              "        text-align: right;\n",
              "    }\n",
              "</style>\n",
              "<table border=\"1\" class=\"dataframe\">\n",
              "  <thead>\n",
              "    <tr style=\"text-align: right;\">\n",
              "      <th></th>\n",
              "      <th>student_no</th>\n",
              "      <th>process_no</th>\n",
              "      <th>arr_time</th>\n",
              "      <th>service_time</th>\n",
              "      <th>end_time</th>\n",
              "    </tr>\n",
              "  </thead>\n",
              "  <tbody>\n",
              "    <tr>\n",
              "      <th>0</th>\n",
              "      <td>1</td>\n",
              "      <td>1</td>\n",
              "      <td>5.573973</td>\n",
              "      <td>7.631713</td>\n",
              "      <td>13.205686</td>\n",
              "    </tr>\n",
              "    <tr>\n",
              "      <th>1</th>\n",
              "      <td>4</td>\n",
              "      <td>1</td>\n",
              "      <td>15.561617</td>\n",
              "      <td>1.544549</td>\n",
              "      <td>17.106166</td>\n",
              "    </tr>\n",
              "    <tr>\n",
              "      <th>2</th>\n",
              "      <td>3</td>\n",
              "      <td>1</td>\n",
              "      <td>12.523844</td>\n",
              "      <td>4.636834</td>\n",
              "      <td>17.160678</td>\n",
              "    </tr>\n",
              "    <tr>\n",
              "      <th>3</th>\n",
              "      <td>6</td>\n",
              "      <td>1</td>\n",
              "      <td>18.411900</td>\n",
              "      <td>2.362931</td>\n",
              "      <td>20.774832</td>\n",
              "    </tr>\n",
              "    <tr>\n",
              "      <th>4</th>\n",
              "      <td>7</td>\n",
              "      <td>1</td>\n",
              "      <td>20.055640</td>\n",
              "      <td>4.370362</td>\n",
              "      <td>24.426002</td>\n",
              "    </tr>\n",
              "    <tr>\n",
              "      <th>...</th>\n",
              "      <td>...</td>\n",
              "      <td>...</td>\n",
              "      <td>...</td>\n",
              "      <td>...</td>\n",
              "      <td>...</td>\n",
              "    </tr>\n",
              "    <tr>\n",
              "      <th>101</th>\n",
              "      <td>58</td>\n",
              "      <td>1</td>\n",
              "      <td>174.062245</td>\n",
              "      <td>16.942606</td>\n",
              "      <td>191.004850</td>\n",
              "    </tr>\n",
              "    <tr>\n",
              "      <th>102</th>\n",
              "      <td>59</td>\n",
              "      <td>2</td>\n",
              "      <td>179.870334</td>\n",
              "      <td>15.492440</td>\n",
              "      <td>195.362774</td>\n",
              "    </tr>\n",
              "    <tr>\n",
              "      <th>103</th>\n",
              "      <td>60</td>\n",
              "      <td>1</td>\n",
              "      <td>178.425426</td>\n",
              "      <td>18.513571</td>\n",
              "      <td>196.938997</td>\n",
              "    </tr>\n",
              "    <tr>\n",
              "      <th>104</th>\n",
              "      <td>62</td>\n",
              "      <td>1</td>\n",
              "      <td>183.954530</td>\n",
              "      <td>13.462061</td>\n",
              "      <td>197.416592</td>\n",
              "    </tr>\n",
              "    <tr>\n",
              "      <th>105</th>\n",
              "      <td>52</td>\n",
              "      <td>2</td>\n",
              "      <td>178.991559</td>\n",
              "      <td>18.970809</td>\n",
              "      <td>197.962369</td>\n",
              "    </tr>\n",
              "  </tbody>\n",
              "</table>\n",
              "<p>106 rows × 5 columns</p>\n",
              "</div>"
            ],
            "text/plain": [
              "     student_no  process_no    arr_time  service_time    end_time\n",
              "0             1           1    5.573973      7.631713   13.205686\n",
              "1             4           1   15.561617      1.544549   17.106166\n",
              "2             3           1   12.523844      4.636834   17.160678\n",
              "3             6           1   18.411900      2.362931   20.774832\n",
              "4             7           1   20.055640      4.370362   24.426002\n",
              "..          ...         ...         ...           ...         ...\n",
              "101          58           1  174.062245     16.942606  191.004850\n",
              "102          59           2  179.870334     15.492440  195.362774\n",
              "103          60           1  178.425426     18.513571  196.938997\n",
              "104          62           1  183.954530     13.462061  197.416592\n",
              "105          52           2  178.991559     18.970809  197.962369\n",
              "\n",
              "[106 rows x 5 columns]"
            ]
          },
          "execution_count": 2,
          "metadata": {},
          "output_type": "execute_result"
        }
      ],
      "source": [
        "class simShell:\n",
        "  def __init__(self,env,data):\n",
        "    '''Generic sim code for single arrival process with sequential arrivals'''\n",
        "    self.env = env                            # Define env as attribute of class 'simShell' (included as an argument to class methods via 'self')\n",
        "    self.data = data                          # Define data as attribute of class 'simShell' to collect simulation data\n",
        "    self.env.process(self.arrival())          # Begin arrival process\n",
        "  def arrival(self):\n",
        "    i = 0\n",
        "    while True:\n",
        "      i = i + 1                               # Arrival number\n",
        "      time = np.random.exponential(3)         # Define interarrival time for entity i\n",
        "      yield self.env.timeout(time)            # Suspend until entity arrives at process 1\n",
        "      if i <=  5:\n",
        "        print('Student %d arrives at time %.2f' % (i,self.env.now))\n",
        "      self.env.process(self.process1(i))      # Execute first process\n",
        "  def process1(self,i):\n",
        "    '''Generic sim code for entity processing'''\n",
        "    p = 1                                     # Label indicating process number\n",
        "    arr_time = self.env.now                   # Record arrival time at process1\n",
        "    time = 1+19*np.random.rand()              # Define process time for entity i\n",
        "    yield self.env.timeout(time)              # Suspend until entity finishes at process 1\n",
        "    if i <=  5:\n",
        "      print('Student %d works out for %.2f minutes & is done at time %.2f' % (i,time,self.env.now))\n",
        "    data.append([i,p,arr_time,time,self.env.now])  # Record process1 statistics for entity i\n",
        "    if np.random.rand() <= 0.8:               # Check if entity goes to 2nd process\n",
        "      self.env.process(self.process2(i))      # Execute second process\n",
        "  def process2(self,i):\n",
        "    '''Generic sim code for entity processing'''\n",
        "    p = 2                                     # Label indicating process number\n",
        "    arr_time = self.env.now                   # Record arrival time at process1\n",
        "    time = max(0,np.random.normal(20,5))      # Define process time for entity i\n",
        "    yield self.env.timeout(time)              # Suspend until entity finishes at process 1\n",
        "    if i <=  5:\n",
        "      print('Student %d uses locker room for %.2f minutes & leaves gym at time %.2f' % (i,time,self.env.now))\n",
        "    data.append([i,p,arr_time,time,self.env.now])  # Record process2 statistics for entity i\n",
        "\n",
        "data = []\n",
        "env=simpy.Environment()\n",
        "simShell(env,data)\n",
        "env.run(until=200)                            # Simulation runs for desired number of periods\n",
        "student_df = pd.DataFrame(data)               # Store the data in a convenient object (panda dataframe)\n",
        "student_df.columns = ['student_no','process_no','arr_time',\n",
        "                     'service_time','end_time'] # Add column labels\n",
        "student_df                                    # Display the data frame"
      ]
    },
    {
      "cell_type": "markdown",
      "metadata": {
        "id": "8JIUooepb-ro"
      },
      "source": [
        "# 2. Question\n",
        "\n",
        "So let us change the model by assuming that there are finite capacities for both the workout zone (the first activity) and the locker room (the second acitivity). Specifically, the workout zone can accommodate at most 20 students and the locker room can accommodate at most 10 students. Let us also assume that the workout time is uniformly distributed between 30 to 60 minutes.\n",
        "\n",
        "Your goal is to **revise the code above by incorporating the the capacity constraints of these resources and run the simulation for 100,000 time units to  answer the following question:**\n",
        "- What are the average wait times for the workout zone and the locker room?\n",
        "- What are the utilization rates for these two resources?"
      ]
    },
    {
      "cell_type": "markdown",
      "metadata": {
        "id": "jxGFRf0XDBVp"
      },
      "source": [
        "# 3. Implementation\n",
        "\n",
        "Let us first implement the model as folows. Note that in this case, we initialize the object with two more arguments `workout` and `lr`. They represent the resources. Also, in the previous simulation, students never wait but now to keep track of the wait time, we need to record the start time of each activity."
      ]
    },
    {
      "cell_type": "code",
      "execution_count": 11,
      "metadata": {
        "colab": {
          "base_uri": "https://localhost:8080/"
        },
        "id": "TMCAeThyDm4l",
        "outputId": "3f1fb293-775f-4181-b8a4-734d72f2941f"
      },
      "outputs": [
        {
          "name": "stdout",
          "output_type": "stream",
          "text": [
            "Student 1 arrives at time 8.30\n",
            "Student 2 arrives at time 13.86\n",
            "Student 3 arrives at time 16.57\n",
            "Student 4 arrives at time 18.16\n",
            "Student 5 arrives at time 23.05\n",
            "Student 2 works out for 39.13 minutes & is done at 52.99\n",
            "Student 4 works out for 45.25 minutes & is done at 63.41\n",
            "Student 1 works out for 57.29 minutes & is done at 65.59\n",
            "Student 2 uses locker room for 17.15 minutes and leaves the gym at 70.13\n",
            "Student 5 works out for 47.24 minutes & is done at 70.29\n",
            "Student 3 works out for 57.21 minutes & is done at 73.77\n",
            "Student 4 uses locker room for 19.38 minutes and leaves the gym at 82.78\n",
            "Student 5 uses locker room for 15.57 minutes and leaves the gym at 85.86\n",
            "Student 1 uses locker room for 21.11 minutes and leaves the gym at 86.70\n",
            "Student 3 uses locker room for 19.14 minutes and leaves the gym at 92.92\n",
            "average wait time for workout is: 0.85 minutes\n",
            "average wait time for locker room is: 0.08 minutes\n"
          ]
        }
      ],
      "source": [
        "class simShell:\n",
        "  def __init__(self,env,data,workout,lr):\n",
        "    '''Generic sim code for single arrival process with sequential arrivals'''\n",
        "    self.env = env                            # Define env as attribute of class 'simShell' (included as an argument to class methods via 'self')\n",
        "    self.data = data                          # Define data as attribute of class 'simShell' to collect simulation data\n",
        "    self.workout = workout                    # Define the resource, workout\n",
        "    self.lr = lr                              # Define the reource, locker room\n",
        "    self.env.process(self.arrival())          # Begin arrival process\n",
        "  def arrival(self):\n",
        "    i = 0\n",
        "    while True:\n",
        "      i = i + 1                               # Arrival number\n",
        "      time = np.random.exponential(3)         # Define interarrival time for entity i\n",
        "      yield self.env.timeout(time)            # Suspend until entity arrives at process 1\n",
        "      if i <=  5:\n",
        "        print('Student %d arrives at time %.2f' % (i,self.env.now))\n",
        "      self.env.process(self.process1(i))      # Execute first process\n",
        "  def process1(self,i):\n",
        "    '''Generic sim code for entity processing'''\n",
        "    p = 1                                     # Label indicating process number\n",
        "    arr_time = self.env.now                   # Record arrival time at process1\n",
        "    with self.workout.request() as req:       # Entity requests 1 unit of the resource\n",
        "      yield req\n",
        "      start_time = self.env.now               # Define start time. This is the time point when the student is done waiting and starts the service\n",
        "      ###### Add your code here (two lines of code) ######\n",
        "      time = np.random.uniform(30,60)                                        # Define process time for entity i, which is uniformly distributed between 30 to 60\n",
        "      yield self.env.timeout(time)                                        # Suspend until entity finishes at process 1\n",
        "      ###### end your code here ######\n",
        "    if i <=  5:\n",
        "      print('Student %d works out for %.2f minutes & is done at %.2f' % (i,time,env.now))\n",
        "    data.append([i,p,arr_time,start_time,time,env.now])  # Record process1 statistics for entity i\n",
        "    if np.random.rand() <= 0.8:                 # Check if entity goes to 2nd process\n",
        "      self.env.process(self.process2(i))        # Execute second process\n",
        "  def process2(self,i):\n",
        "    '''Generic sim code for entity processing'''\n",
        "      ###### Add your code here ######\n",
        "      # Hint: Your code here should be very similar to the content in `process1`.\n",
        "      # Keep in mind that you need to define `start_time`, which is the the time point when the student is done waiting and starts using the locker room.\n",
        "      # You also need to append that to the list `data`\n",
        "    p = 2\n",
        "    arr_time = self.env.now\n",
        "    with self.lr.request() as req:\n",
        "      yield req\n",
        "      start_time = self.env.now\n",
        "      time = max(0, np.random.normal(20,5))\n",
        "      yield self.env.timeout(time)\n",
        "\n",
        "    if i<=5:\n",
        "      print(f'Student {i} uses locker room for{time: .2f} minutes and leaves the gym at {self.env.now:.2f}')\n",
        "\n",
        "    self.data.append([i, p, arr_time, start_time, time, self.env.now])\n",
        "      ###### end your code here ######\n",
        "\n",
        "# Run the simulation for 100,000 time units\n",
        "data = []\n",
        "env = simpy.Environment()\n",
        "workout = simpy.Resource(env, capacity=20) #workout zone max 20 students\n",
        "lr = simpy.Resource(env, capacity=10) #locker room max 10 students\n",
        "model = simShell(env, data, workout, lr)\n",
        "env.run(until=100000)\n",
        "\n",
        "# Convert to DataFrame\n",
        "df = pd.DataFrame(data, columns=['student_no', 'process_no', 'arr_time', 'start_time', 'service_time', 'end_time'])\n",
        "\n",
        "# Calculate wait times\n",
        "df['wait_time'] = df['start_time'] - df['arr_time']\n",
        "\n",
        "# Compute average wait times\n",
        "avg_wait_workout = df[df['process_no']==1]['wait_time'].mean()\n",
        "avg_wait_locker = df[df['process_no']==2]['wait_time'].mean()\n",
        "\n",
        "print(f'average wait time for workout is: {avg_wait_workout:.2f} minutes' )\n",
        "print(f'average wait time for locker room is: {avg_wait_locker:.2f} minutes' )"
      ]
    },
    {
      "cell_type": "markdown",
      "metadata": {
        "id": "c025pg5aF4d-"
      },
      "source": [
        "Next, we notice that to compute the utilization rate, we need to monitor the resources with funciton wrappers. So now we patch the resources and run the simulation. A key point is that now we have two different resources `workout` and `lr`. We patch them separately."
      ]
    },
    {
      "cell_type": "code",
      "execution_count": 12,
      "metadata": {
        "colab": {
          "base_uri": "https://localhost:8080/"
        },
        "id": "msDvRpjnE81P",
        "outputId": "bb56f729-8161-41c9-b089-c8853c01deb4"
      },
      "outputs": [
        {
          "name": "stdout",
          "output_type": "stream",
          "text": [
            "Student 1 arrives at time 3.64\n",
            "Student 2 arrives at time 4.89\n",
            "Student 3 arrives at time 10.29\n",
            "Student 4 arrives at time 10.76\n",
            "Student 5 arrives at time 11.67\n",
            "Student 2 works out for 33.28 minutes & is done at 38.17\n",
            "Student 4 works out for 32.98 minutes & is done at 43.73\n",
            "Student 3 works out for 47.29 minutes & is done at 57.58\n",
            "Student 4 uses locker room for 15.95 minutes and leaves the gym at 59.68\n",
            "Student 1 works out for 56.63 minutes & is done at 60.27\n",
            "Student 2 uses locker room for 25.91 minutes and leaves the gym at 64.08\n",
            "Student 5 works out for 57.43 minutes & is done at 69.10\n",
            "Student 3 uses locker room for 18.72 minutes and leaves the gym at 76.30\n",
            "Student 5 uses locker room for 27.01 minutes and leaves the gym at 96.10\n"
          ]
        }
      ],
      "source": [
        "###### Add your code here: Implement the two functions `patch_resource` and `monitor` ######\n",
        "# Hint: It should be the same as what we had in the class\n",
        "def patch_resource(resource,pre=None,post=None):\n",
        "  def get_wrapper(func):\n",
        "    # Generate a wrapper for request/release\n",
        "    @wraps(func)\n",
        "\n",
        "    def wrapper(*args,**kwargs):\n",
        "      if pre:\n",
        "        pre(resource)\n",
        "      # Perform operation as specified in 'func', ie, 'getattr' in this example\n",
        "      # Between pre and post to yield difference in timing of data collection\n",
        "      ret = func(*args,**kwargs)\n",
        "      if post:\n",
        "        post(resource)\n",
        "      return ret\n",
        "\n",
        "    return wrapper\n",
        "\n",
        "  # Replace the original operations with our wrapper\n",
        "  for name in ['request','release']:\n",
        "    if hasattr(resource,name):\n",
        "      setattr(resource,name,get_wrapper(getattr(resource,name)))\n",
        "\n",
        "def monitor(r_data,resource):\n",
        "  '''This is our monitoring callback'''\n",
        "  item = (\n",
        "          resource._env.now,                # The current simulation time\n",
        "          resource.count,                   # The number of users of resource\n",
        "          len(resource.queue),              # The number of queued processes\n",
        "         )\n",
        "  r_data.append(item)\n",
        "\n",
        "###### end your code here ######\n",
        "total_time = 100000\n",
        "data = []\n",
        "r_data_workout = []\n",
        "r_data_lr = []\n",
        "env = simpy.Environment()\n",
        "workout = simpy.Resource(env,capacity=20)          # Dfine the resource\n",
        "lr = simpy.Resource(env,capacity=10)               # Dfine the resource\n",
        "simShell(env,data,workout,lr)\n",
        "\n",
        "#################### Start: Process function patch commands ####################\n",
        "### Patch the resource `workout`\n",
        "monitor_workout = partial(monitor,r_data_workout)  # Bind the function `mointor` with `r_data_workout`\n",
        "patch_resource(workout,pre=monitor_workout)        # Patch the resource\n",
        "\n",
        "###### Add your code here: Patch the resource `lr` (two lines of code)######\n",
        "# Hint: the code should be very similar to aboove. You need to apply `partial` on `monitor` to bind it with `r_data_lr` to obtain a new function `mointor_lr`.\n",
        "# Then, you patch the resource `lr` with `mointor_lr`.\n",
        "monitor_lr = partial(monitor,r_data_lr)                                                   # Bind the function `mointor` with `r_data_lr`\n",
        "patch_resource(lr,pre=monitor_lr)                                                   # Patch the resource\n",
        "###### end your code here ######\n",
        "###################### End: Process function patch commands ####################\n",
        "\n",
        "env.run(until=total_time)                          # Simulation runs for desired number of periods"
      ]
    },
    {
      "cell_type": "markdown",
      "metadata": {
        "id": "oEll4-LEGuuW"
      },
      "source": [
        "Then, we compute the wait times."
      ]
    },
    {
      "cell_type": "code",
      "execution_count": 14,
      "metadata": {
        "colab": {
          "base_uri": "https://localhost:8080/"
        },
        "id": "CP9U3wbKGB_Q",
        "outputId": "5b0a04a5-6b2c-47f2-9c4e-53b45d537df0"
      },
      "outputs": [
        {
          "name": "stdout",
          "output_type": "stream",
          "text": [
            "The average wait times for the work out zone and the locker room are 1.01 mins and 0.09 mins respectively.\n"
          ]
        }
      ],
      "source": [
        "### Compute the wait time for the work out zone\n",
        "student_df = pd.DataFrame(data, columns = ['student_no','process_no','arr_time','start_time', 'service_time','end_time'])\n",
        "                                                                                # Store the data in a convenient object (panda dataframe)\n",
        "student_df_p1 = student_df[student_df[\"process_no\"] == 1].copy()                # Slice data and obtain the data regarding the first process (workout zone)\n",
        "waittime_wo = (student_df_p1[\"start_time\"] - student_df_p1[\"arr_time\"]).mean()  # Compute the average wait time for the workout zone\n",
        "###### Add your code here: Compute the wait time for locker room and store it to variable `waittime_lr` (two lines of code) ######\n",
        "# Hint: The code should be similar to the last two lines above.\n",
        "student_df_p2 = student_df[student_df[\"process_no\"] == 2].copy()\n",
        "waittime_lr = (student_df_p2[\"start_time\"] - student_df_p2[\"arr_time\"]).mean()                    # Slice data and obtain the data regarding the first process (locker room zone)\n",
        "                                                                                # Compute the average wait time for the locker room zone\n",
        "###### end your code here ######\n",
        "print(\"The average wait times for the work out zone and the locker room are %.2f mins and %.2f mins respectively.\" %(waittime_wo, waittime_lr))"
      ]
    },
    {
      "cell_type": "markdown",
      "metadata": {
        "id": "ww5sNAktGxyj"
      },
      "source": [
        "The last step is to compute the utilization rates. In general, the utililization rate can be written as\n",
        "$\n",
        "\\frac{\n",
        "\\sum_{k}\\text{The amount of time that the system has $k$ customers} \\times k\n",
        "}{\\text{total time}\\times \\text{capacity}}.\n",
        "$"
      ]
    },
    {
      "cell_type": "code",
      "execution_count": 21,
      "metadata": {
        "colab": {
          "base_uri": "https://localhost:8080/"
        },
        "id": "up6n7C6LHuYF",
        "outputId": "ee350387-60ca-4ee3-8d06-2cffd021947a"
      },
      "outputs": [
        {
          "name": "stdout",
          "output_type": "stream",
          "text": [
            "The utilization rates of the workout zone and the locker room are 75.32 and 26.69\n"
          ]
        }
      ],
      "source": [
        "### Compute the utilization rate for the workout zone\n",
        "r_df_wo = pd.DataFrame(r_data_workout, columns = ['end_time', 'count','queue']) # Store the data in a convenient object (panda dataframe)\n",
        "r_df_wo[\"start_time\"] = np.concatenate(([0],np.array(r_df_wo.iloc[:-1, :][\"end_time\"])))\n",
        "                                                                                # Add a new column for storing the start time\n",
        "util_wo = ((r_df_wo['end_time'] - r_df_wo['start_time'])*r_df_wo['count']).sum()/(total_time*20)\n",
        "                                                                                # Compute the utilization rate for the workout zone\n",
        "\n",
        "###### Add your code here: Compute the utilization rate for the locker room and store it in `util_lr` (three lines of code) ######\n",
        "# Hint: The code should be similar to the last three lines above.\n",
        "r_df_lr = pd.DataFrame(r_data_lr, columns=['end_time','count','queue'])                                  # Store the data in a convenient object (panda dataframe)\n",
        "r_df_lr['start_time']  =  np.concatenate(([0], np.array(r_df_lr.iloc[:-1,:]['end_time'])))                    # Add a new column for storing the start time\n",
        "                                                                                # Compute the utilization rate for the locker room\n",
        "util_lr = ((r_df_lr['end_time'] - r_df_lr['start_time'])*r_df_lr['count']).sum()/(total_time*20)\n",
        "###### end your code here ######\n",
        "print(\"The utilization rates of the workout zone and the locker room are\", round(100*util_wo,2),\"and\",round(100*util_lr,2))"
      ]
    }
  ],
  "metadata": {
    "colab": {
      "provenance": []
    },
    "kernelspec": {
      "display_name": "Python 3",
      "name": "python3"
    },
    "language_info": {
      "codemirror_mode": {
        "name": "ipython",
        "version": 3
      },
      "file_extension": ".py",
      "mimetype": "text/x-python",
      "name": "python",
      "nbconvert_exporter": "python",
      "pygments_lexer": "ipython3",
      "version": "3.12.5"
    }
  },
  "nbformat": 4,
  "nbformat_minor": 0
}
