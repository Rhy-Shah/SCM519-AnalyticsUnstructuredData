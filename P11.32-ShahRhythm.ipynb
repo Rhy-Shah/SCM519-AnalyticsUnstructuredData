{
 "cells": [
  {
   "cell_type": "code",
   "execution_count": 7,
   "metadata": {},
   "outputs": [],
   "source": [
    "import numpy as np"
   ]
  },
  {
   "cell_type": "code",
   "execution_count": 8,
   "metadata": {},
   "outputs": [],
   "source": [
    "years = 30\n",
    "discount_rate = 0.15\n",
    "retention_prob = 0.75\n",
    "rejoin_prob = 0.15\n",
    "std_dev_factor = 0.10  \n",
    "\n",
    "mean_profits = {1: -40, 2: 10, 3: 50, 4: 66, 5: 87, 6: 100, 7: 120, 8: 135, 9: 140, 10: 150}"
   ]
  },
  {
   "cell_type": "code",
   "execution_count": 9,
   "metadata": {},
   "outputs": [],
   "source": [
    "for y in range(11, years + 1):\n",
    "    mean_profits[y] = mean_profits[y - 1] + 5"
   ]
  },
  {
   "cell_type": "code",
   "execution_count": 10,
   "metadata": {},
   "outputs": [],
   "source": [
    "def simulate_customer():\n",
    "    npv = 0\n",
    "    cash_flows = []\n",
    "    active_years = []\n",
    "    rejoin_count = 0\n",
    "    year = 1\n",
    "    customer_active = True\n",
    "\n",
    "    while year <= years:\n",
    "        if customer_active:\n",
    "            mean_profit = mean_profits[year]\n",
    "            std_dev = abs(mean_profit) * std_dev_factor\n",
    "            actual_profit = np.random.normal(mean_profit, std_dev)\n",
    "            \n",
    "            discounted_profit = actual_profit / ((1 + discount_rate) ** (year - 0.5))\n",
    "            npv += discounted_profit\n",
    "            cash_flows.append(discounted_profit)\n",
    "            active_years.append(year)\n",
    "\n",
    "            if np.random.rand() > retention_prob:\n",
    "                customer_active = False\n",
    "        else:\n",
    "            if np.random.rand() < rejoin_prob:\n",
    "                rejoin_count += 1\n",
    "                customer_active = True\n",
    "        \n",
    "        year += 1\n",
    "\n",
    "    return npv, len(active_years), rejoin_count"
   ]
  },
  {
   "cell_type": "code",
   "execution_count": 11,
   "metadata": {},
   "outputs": [
    {
     "name": "stdout",
     "output_type": "stream",
     "text": [
      "Average NPV per customer: $229.27\n",
      "Average number of years loyal: 12.61\n",
      "Average number of times customer rejoins: 2.60\n"
     ]
    }
   ],
   "source": [
    "num_simulations = 1000\n",
    "npv_results = []\n",
    "years_loyal_results = []\n",
    "rejoin_counts = []\n",
    "\n",
    "for i in range(num_simulations):\n",
    "    npv, years_loyal, rejoins = simulate_customer()\n",
    "    npv_results.append(npv)\n",
    "    years_loyal_results.append(years_loyal)\n",
    "    rejoin_counts.append(rejoins)\n",
    "\n",
    "mean_npv = np.mean(npv_results)\n",
    "mean_years_loyal = np.mean(years_loyal_results)\n",
    "mean_rejoin_count = np.mean(rejoin_counts)\n",
    "\n",
    "print(f\"Average NPV per customer: ${mean_npv:.2f}\")\n",
    "print(f\"Average number of years loyal: {mean_years_loyal:.2f}\")\n",
    "print(f\"Average number of times customer rejoins: {mean_rejoin_count:.2f}\")"
   ]
  }
 ],
 "metadata": {
  "kernelspec": {
   "display_name": "Python 3",
   "language": "python",
   "name": "python3"
  },
  "language_info": {
   "codemirror_mode": {
    "name": "ipython",
    "version": 3
   },
   "file_extension": ".py",
   "mimetype": "text/x-python",
   "name": "python",
   "nbconvert_exporter": "python",
   "pygments_lexer": "ipython3",
   "version": "3.12.5"
  }
 },
 "nbformat": 4,
 "nbformat_minor": 2
}
