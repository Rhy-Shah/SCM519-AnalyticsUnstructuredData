{
 "cells": [
  {
   "cell_type": "code",
   "execution_count": 18,
   "metadata": {},
   "outputs": [],
   "source": [
    "import numpy as np"
   ]
  },
  {
   "cell_type": "markdown",
   "metadata": {},
   "source": [
    "a. Suppose test scores follow a normal distribution. The average test score is 100 and the standard deviation is 20. The average test score of accepted applicants is"
   ]
  },
  {
   "cell_type": "code",
   "execution_count": 19,
   "metadata": {},
   "outputs": [
    {
     "name": "stdout",
     "output_type": "stream",
     "text": [
      "95th percentile: 132.894540998463\n"
     ]
    }
   ],
   "source": [
    "n = 1000000\n",
    "scores = np.random.normal(loc=100, scale=20, size=n)\n",
    "\n",
    "cutoff = np.percentile(scores, 95)\n",
    "print(\"95th percentile:\", cutoff)"
   ]
  },
  {
   "cell_type": "code",
   "execution_count": 20,
   "metadata": {},
   "outputs": [
    {
     "name": "stdout",
     "output_type": "stream",
     "text": [
      "Top 5 percentile mean: 141\n"
     ]
    }
   ],
   "source": [
    "top_5_percentile = scores[scores > cutoff]\n",
    "print(\"Top 5 percentile mean:\", round(np.mean(top_5_percentile)))"
   ]
  },
  {
   "cell_type": "markdown",
   "metadata": {},
   "source": [
    "Suppose test scores follow a lognormal distribution with the same mean (100) and standard deviation (20, i.e., variance = 400). The average test score of accepted applicants is"
   ]
  },
  {
   "cell_type": "code",
   "execution_count": 21,
   "metadata": {},
   "outputs": [],
   "source": [
    "mu_Y = 100\n",
    "sigma_Y_sq = 400\n",
    "\n",
    "sigma_X_sq = np.log(sigma_Y_sq / (mu_Y ** 2) + 1)  \n",
    "sigma_X = np.sqrt(sigma_X_sq)\n",
    "mu_X = np.log(mu_Y) - 0.5 * sigma_X_sq"
   ]
  },
  {
   "cell_type": "code",
   "execution_count": 22,
   "metadata": {},
   "outputs": [
    {
     "name": "stdout",
     "output_type": "stream",
     "text": [
      "95th percentile: 135.7905145021548\n"
     ]
    }
   ],
   "source": [
    "lognormal_scores = np.random.lognormal(mean=mu_X, sigma=sigma_X, size=n)\n",
    "lognormal_cutoff = np.percentile(lognormal_scores, 95)\n",
    "print(\"95th percentile:\", lognormal_cutoff)"
   ]
  },
  {
   "cell_type": "code",
   "execution_count": 23,
   "metadata": {},
   "outputs": [
    {
     "name": "stdout",
     "output_type": "stream",
     "text": [
      "Lognormal Distribution Average: 148\n"
     ]
    }
   ],
   "source": [
    "lognormal_top_scores = lognormal_scores[lognormal_scores >= lognormal_cutoff]\n",
    "print(f\"Lognormal Distribution Average: {round(np.mean(lognormal_top_scores))}\")"
   ]
  },
  {
   "cell_type": "code",
   "execution_count": null,
   "metadata": {},
   "outputs": [],
   "source": []
  }
 ],
 "metadata": {
  "kernelspec": {
   "display_name": "Python 3",
   "language": "python",
   "name": "python3"
  },
  "language_info": {
   "codemirror_mode": {
    "name": "ipython",
    "version": 3
   },
   "file_extension": ".py",
   "mimetype": "text/x-python",
   "name": "python",
   "nbconvert_exporter": "python",
   "pygments_lexer": "ipython3",
   "version": "3.12.5"
  }
 },
 "nbformat": 4,
 "nbformat_minor": 2
}
