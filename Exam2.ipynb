{
 "cells": [
  {
   "cell_type": "code",
   "execution_count": 4,
   "metadata": {},
   "outputs": [
    {
     "name": "stdout",
     "output_type": "stream",
     "text": [
      "Probability that profit is greater than $4,000: 0.50\n",
      "Probability that profit is less than $3,000: 0.15\n"
     ]
    }
   ],
   "source": [
    "import numpy as np\n",
    "\n",
    "# Set the random seed for reproducibility\n",
    "np.random.seed(25)\n",
    "\n",
    "# Number of replications\n",
    "n_replications = 10000\n",
    "\n",
    "# Simulate revenue and cost\n",
    "revenue = np.random.normal(10000, 800, n_replications)\n",
    "cost = np.random.normal(6000, 500, n_replications)\n",
    "\n",
    "# Calculate profit\n",
    "profit = revenue - cost\n",
    "\n",
    "# Calculate probabilities\n",
    "prob_greater_than_4000 = np.mean(profit > 4000)\n",
    "prob_less_than_3000 = np.mean(profit < 3000)\n",
    "\n",
    "# Print the results\n",
    "print(f\"Probability that profit is greater than $4,000: {prob_greater_than_4000:.2f}\")\n",
    "print(f\"Probability that profit is less than $3,000: {prob_less_than_3000:.2f}\")"
   ]
  },
  {
   "cell_type": "code",
   "execution_count": 5,
   "metadata": {},
   "outputs": [
    {
     "name": "stdout",
     "output_type": "stream",
     "text": [
      "[ 8.48327777 17.03045439  7.77345755 ... 15.4738136   4.34494367\n",
      "  4.48182678]\n"
     ]
    }
   ],
   "source": [
    "mean = 10\n",
    "std = 5\n",
    "normal_dist = np.random.normal(mean, std, n_replications)\n",
    "print(normal_dist)"
   ]
  },
  {
   "cell_type": "code",
   "execution_count": 7,
   "metadata": {},
   "outputs": [
    {
     "name": "stdout",
     "output_type": "stream",
     "text": [
      "5.463592444321843\n"
     ]
    }
   ],
   "source": [
    "percentile_18th = np.percentile(normal_dist, 18)\n",
    "print(percentile_18th)"
   ]
  },
  {
   "cell_type": "code",
   "execution_count": 8,
   "metadata": {},
   "outputs": [
    {
     "name": "stdout",
     "output_type": "stream",
     "text": [
      "Probability that a random number is between 16.50 and 27.5: 0.0971\n"
     ]
    }
   ],
   "source": [
    "# Calculate the CDF values for 16.50 and 27.5\n",
    "cdf_16_50 = np.mean(normal_dist <= 16.50)\n",
    "cdf_27_5 = np.mean(normal_dist <= 27.5)\n",
    "\n",
    "# Calculate the probability that a random number is between 16.50 and 27.5\n",
    "prob_between_16_50_and_27_5 = cdf_27_5 - cdf_16_50\n",
    "\n",
    "print(f\"Probability that a random number is between 16.50 and 27.5: {prob_between_16_50_and_27_5:.4f}\")"
   ]
  },
  {
   "cell_type": "code",
   "execution_count": 9,
   "metadata": {},
   "outputs": [
    {
     "name": "stdout",
     "output_type": "stream",
     "text": [
      "Probability that a random number is at least one standard deviation above the mean: 0.1582\n"
     ]
    }
   ],
   "source": [
    "# Calculate the value that is one standard deviation above the mean\n",
    "one_std_above_mean = mean + std\n",
    "\n",
    "# Calculate the CDF value for one standard deviation above the mean\n",
    "cdf_one_std_above_mean = np.mean(normal_dist <= one_std_above_mean)\n",
    "\n",
    "# Calculate the probability that a random number is at least one standard deviation above the mean\n",
    "prob_at_least_one_std_above_mean = 1 - cdf_one_std_above_mean\n",
    "\n",
    "print(f\"Probability that a random number is at least one standard deviation above the mean: {prob_at_least_one_std_above_mean:.4f}\")"
   ]
  },
  {
   "cell_type": "code",
   "execution_count": 11,
   "metadata": {},
   "outputs": [
    {
     "name": "stdout",
     "output_type": "stream",
     "text": [
      "Expected Monetary Value (EMV): 20.00\n",
      "Expected Utility: 0.0094\n"
     ]
    }
   ],
   "source": [
    "payoff_positive = 200\n",
    "payoff_negative = -100\n",
    "prob_positive = 0.40\n",
    "prob_negative = 0.60\n",
    "\n",
    "# Calculate the expected monetary value (EMV)\n",
    "emv = (prob_positive * payoff_positive) + (prob_negative * payoff_negative)\n",
    "\n",
    "# Define the utility function\n",
    "def utility(x):\n",
    "    return 1 - np.exp(-x / 1000)\n",
    "\n",
    "# Calculate the expected utility\n",
    "expected_utility = (prob_positive * utility(payoff_positive)) + (prob_negative * utility(payoff_negative))\n",
    "\n",
    "print(f\"Expected Monetary Value (EMV): {emv:.2f}\")\n",
    "print(f\"Expected Utility: {expected_utility:.4f}\")"
   ]
  },
  {
   "cell_type": "code",
   "execution_count": 13,
   "metadata": {},
   "outputs": [
    {
     "name": "stdout",
     "output_type": "stream",
     "text": [
      "Condition 1:\n",
      "Decision 1 EMV: 875.00\n",
      "Decision 2 EMV: 700.00\n",
      "Decision 3 EMV: 262.50\n",
      "\n",
      "Total EMV for Condition 1: 1837.50\n",
      "Condition 2:\n",
      "Decision 1 EMV: 620.00\n",
      "Decision 2 EMV: 436.00\n",
      "Decision 3 EMV: 126.00\n",
      "\n",
      "Total EMV for Condition 2: 1182.00\n",
      "Condition 3:\n",
      "Decision 1 EMV: 500.00\n",
      "Decision 2 EMV: 400.00\n",
      "Decision 3 EMV: 150.00\n",
      "\n",
      "Total EMV for Condition 3: 1050.00\n",
      "Condition 4:\n",
      "Decision 1 EMV: 1100.00\n",
      "Decision 2 EMV: 860.00\n",
      "Decision 3 EMV: 310.00\n",
      "\n",
      "Total EMV for Condition 4: 2270.00\n"
     ]
    }
   ],
   "source": [
    "# Define the payoffs for each decision and outcome\n",
    "payoffs = {\n",
    "    'Decision 1': [2000, 500, -1000],\n",
    "    'Decision 2': [1500, 300, -500],\n",
    "    'Decision 3': [500, 50, 0]\n",
    "}\n",
    "\n",
    "# Define the probabilities for each condition\n",
    "conditions = [\n",
    "    {'p1': 0.5, 'p2': 0.25, 'p3': 0.25},  # p1 is twice as large as p2, and p1 = 0.5\n",
    "    {'p1': 0.18, 'p2': 0.72, 'p3': 0.10},  # p2 is four times as large as p1, and p2 = 0.72\n",
    "    {'p1': 0.25, 'p2': 0.5, 'p3': 0.25},  # p1 is half as large as p2, and p2 = 0.5\n",
    "    {'p1': 0.6, 'p2': 0.2, 'p3': 0.2}  # p1 is three times as large as p2, and p1 = 0.6\n",
    "]\n",
    "\n",
    "# Calculate the EMV for each decision under each condition\n",
    "for i, condition in enumerate(conditions):\n",
    "    print(f\"Condition {i+1}:\")\n",
    "    for decision, payoff in payoffs.items():\n",
    "        emv = (condition['p1'] * payoff[0]) + (condition['p2'] * payoff[1]) + (condition['p3'] * payoff[2])\n",
    "        print(f\"{decision} EMV: {emv:.2f}\")\n",
    "    print()\n",
    "    \n",
    "    total_emv = sum((condition['p1'] * payoffs[decision][0]) + (condition['p2'] * payoffs[decision][1]) + (condition['p3'] * payoffs[decision][2]) for decision in payoffs)\n",
    "    print(f\"Total EMV for Condition {i+1}: {total_emv:.2f}\")"
   ]
  },
  {
   "cell_type": "code",
   "execution_count": 16,
   "metadata": {},
   "outputs": [
    {
     "name": "stdout",
     "output_type": "stream",
     "text": [
      "EMV for each decision: {'Decision 1': 775.0, 'Decision 2': 415.0, 'Decision 3': 87.5}\n",
      "The optimal decision is: Decision 1 with an EMV of 775.00\n"
     ]
    }
   ],
   "source": [
    "# Define the payoffs for each decision and outcome\n",
    "payoffs_new = {\n",
    "    'Decision 1': [1000, 500, -3000],\n",
    "    'Decision 2': [500, 300, -1000],\n",
    "    'Decision 3': [100, 50, -100]\n",
    "}\n",
    "\n",
    "# Define the probability of outcome 1\n",
    "p = 0.9  # You can change this value to any probability between 0 and 1\n",
    "\n",
    "# Calculate the probabilities of outcomes 2 and 3\n",
    "p2 = (1 - p) / 2\n",
    "p3 = (1 - p) / 2\n",
    "\n",
    "# Calculate the EMV for each decision\n",
    "emv_decisions = {}\n",
    "for decision, payoff in payoffs_new.items():\n",
    "    emv = (p * payoff[0]) + (p2 * payoff[1]) + (p3 * payoff[2])\n",
    "    emv_decisions[decision] = emv\n",
    "\n",
    "# Find the decision with the largest EMV\n",
    "optimal_decision = max(emv_decisions, key=emv_decisions.get)\n",
    "\n",
    "print(f\"EMV for each decision: {emv_decisions}\")\n",
    "print(f\"The optimal decision is: {optimal_decision} with an EMV of {emv_decisions[optimal_decision]:.2f}\")"
   ]
  },
  {
   "cell_type": "code",
   "execution_count": 17,
   "metadata": {},
   "outputs": [
    {
     "name": "stdout",
     "output_type": "stream",
     "text": [
      "Probability that the highest bid is at least $55,000: 0.49\n",
      "Probability that the highest bid is less than $40,000: 0.37\n",
      "Probability that the highest bid is at least $50,000: 0.55\n",
      "Probability that the highest bid is less than $45,000: 0.41\n"
     ]
    }
   ],
   "source": [
    "import numpy as np\n",
    "from scipy.stats import triang\n",
    "\n",
    "# Parameters for the triangular distribution\n",
    "min_bid = 30\n",
    "most_likely_bid = 40\n",
    "max_bid = 60\n",
    "\n",
    "# Number of replications\n",
    "n_replications = 5000\n",
    "\n",
    "# Correlation matrix\n",
    "correlation = 0.7\n",
    "cov_matrix = np.full((5, 5), correlation)\n",
    "np.fill_diagonal(cov_matrix, 1)\n",
    "\n",
    "# Generate correlated random variables\n",
    "mean = [0] * 5\n",
    "L = np.linalg.cholesky(cov_matrix)\n",
    "uncorrelated = np.random.normal(size=(n_replications, 5))\n",
    "correlated = uncorrelated @ L.T\n",
    "\n",
    "# Transform to triangular distribution\n",
    "bids = min_bid + (max_bid - min_bid) * triang.cdf(correlated, (most_likely_bid - min_bid) / (max_bid - min_bid))\n",
    "\n",
    "# Calculate the highest bid in each replication\n",
    "highest_bids = np.max(bids, axis=1)\n",
    "\n",
    "# Calculate probabilities\n",
    "prob_at_least_55000 = np.mean(highest_bids >= 55)\n",
    "prob_less_than_40000 = np.mean(highest_bids < 40)\n",
    "prob_at_least_50000 = np.mean(highest_bids >= 50)\n",
    "prob_less_than_45000 = np.mean(highest_bids < 45)\n",
    "\n",
    "print(f\"Probability that the highest bid is at least $55,000: {prob_at_least_55000:.2f}\")\n",
    "print(f\"Probability that the highest bid is less than $40,000: {prob_less_than_40000:.2f}\")\n",
    "print(f\"Probability that the highest bid is at least $50,000: {prob_at_least_50000:.2f}\")\n",
    "print(f\"Probability that the highest bid is less than $45,000: {prob_less_than_45000:.2f}\")"
   ]
  }
 ],
 "metadata": {
  "kernelspec": {
   "display_name": "Python 3",
   "language": "python",
   "name": "python3"
  },
  "language_info": {
   "codemirror_mode": {
    "name": "ipython",
    "version": 3
   },
   "file_extension": ".py",
   "mimetype": "text/x-python",
   "name": "python",
   "nbconvert_exporter": "python",
   "pygments_lexer": "ipython3",
   "version": "3.12.5"
  }
 },
 "nbformat": 4,
 "nbformat_minor": 2
}
