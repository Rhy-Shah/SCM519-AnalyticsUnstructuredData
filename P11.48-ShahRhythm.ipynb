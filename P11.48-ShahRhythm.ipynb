{
 "cells": [
  {
   "cell_type": "code",
   "execution_count": 1,
   "metadata": {},
   "outputs": [],
   "source": [
    "import numpy as np\n",
    "\n",
    "num_funds = 50\n",
    "num_years = 13\n",
    "num_iterations = 10000\n",
    "threshold = 11\n",
    "\n",
    "success_count = 0\n",
    "\n",
    "for i in range(num_iterations):\n",
    "    max_wins = 0\n",
    "    for _ in range(num_funds):\n",
    "        wins = np.sum(np.random.rand(num_years) < 0.5)\n",
    "        if wins > max_wins:\n",
    "            max_wins = wins\n",
    "    if max_wins >= threshold:\n",
    "        success_count += 1"
   ]
  },
  {
   "cell_type": "code",
   "execution_count": 3,
   "metadata": {},
   "outputs": [
    {
     "name": "stdout",
     "output_type": "stream",
     "text": [
      "The probability that the best performing fund out of 50 will beat the market for at least 11 out of 13 times is 0.4305\n"
     ]
    }
   ],
   "source": [
    "probability = success_count / num_iterations\n",
    "print(\"The probability that the best performing fund out of 50 will beat the market for at least 11 out of 13 times is\", probability)"
   ]
  },
  {
   "cell_type": "code",
   "execution_count": null,
   "metadata": {},
   "outputs": [
    {
     "name": "stdout",
     "output_type": "stream",
     "text": [
      "The average number of years that the best performing fund beat the market is: 10.4419\n"
     ]
    }
   ],
   "source": [
    "sum_max_wins = 0\n",
    "\n",
    "for i in range(num_iterations):\n",
    "    max_wins = 0\n",
    "    for _ in range(num_funds):\n",
    "        wins = np.sum(np.random.rand(num_years) < 0.5)\n",
    "        if wins > max_wins:\n",
    "            max_wins = wins\n",
    "    sum_max_wins += max_wins\n",
    "\n",
    "average_years = sum_max_wins / num_iterations\n",
    "\n",
    "print(\"The average number of years that the best performing fund beat the market is:\", average_years)"
   ]
  },
  {
   "cell_type": "code",
   "execution_count": null,
   "metadata": {},
   "outputs": [],
   "source": []
  }
 ],
 "metadata": {
  "kernelspec": {
   "display_name": "Python 3",
   "language": "python",
   "name": "python3"
  },
  "language_info": {
   "codemirror_mode": {
    "name": "ipython",
    "version": 3
   },
   "file_extension": ".py",
   "mimetype": "text/x-python",
   "name": "python",
   "nbconvert_exporter": "python",
   "pygments_lexer": "ipython3",
   "version": "3.12.5"
  }
 },
 "nbformat": 4,
 "nbformat_minor": 2
}
